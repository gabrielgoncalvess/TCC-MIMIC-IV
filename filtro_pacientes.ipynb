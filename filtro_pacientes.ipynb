{
 "cells": [
  {
   "attachments": {},
   "cell_type": "markdown",
   "metadata": {},
   "source": [
    "## Pacientes qSOFA 2 e com sepse"
   ]
  },
  {
   "cell_type": "code",
   "execution_count": null,
   "metadata": {},
   "outputs": [],
   "source": [
    "import pandas as pd\n",
    "df_pacientes = pd.read_csv('hosp/patients.csv')\n",
    "df_admissoes = pd.read_csv('hosp/admissions.csv')\n",
    "df_diagnosticos = pd.read_csv('hosp/diagnoses_icd.csv')\n",
    "df_d_diagnosticos = pd.read_csv(\"hosp/d_icd_diagnoses.csv\")\n",
    "\n",
    "df_estadia_ed = pd.read_csv('D:\\MIMIC\\mimic-iv-ed-2.2\\ed\\edstays.csv')[['subject_id', 'hadm_id', 'stay_id', 'intime', 'outtime']]\n",
    "df_diagnosticos_ed = pd.read_csv('D:\\MIMIC\\mimic-iv-ed-2.2\\ed\\diagnosis.csv')[['subject_id', 'stay_id', 'icd_code', 'icd_title']]\n",
    "df_sinais_vitais_ed = pd.read_csv('D:/MIMIC/mimic-iv-ed-2.2/ed/vitalsign.csv')[['subject_id', 'stay_id', 'charttime','temperature', 'heartrate', 'resprate', 'o2sat', 'sbp', 'rhythm']]\n",
    "\n",
    "# df_d_items = spark.read.option(\"header\",True).csv(\"icu/d_items.csv\")\n",
    "# df_chartevents = spark.read.option(\"header\",True).csv(\"icu/chartevents.csv\")\n",
    "# df_charteventss = df_chartevents.join(df_d_items,df_chartevents.itemid ==  df_d_items.itemid,\"inner\")"
   ]
  },
  {
   "cell_type": "code",
   "execution_count": null,
   "metadata": {},
   "outputs": [],
   "source": [
    "import pandas as pd\n",
    "df_diag_sepse = pd.read_excel('pacientes_diag_sepse.xlsx', index_col=0)"
   ]
  },
  {
   "cell_type": "code",
   "execution_count": null,
   "metadata": {},
   "outputs": [],
   "source": [
    "df_diag_sepse"
   ]
  },
  {
   "cell_type": "code",
   "execution_count": null,
   "metadata": {},
   "outputs": [],
   "source": [
    "df_final = df_admissoes.merge(df_pacientes, how='left', on='subject_id')"
   ]
  },
  {
   "cell_type": "code",
   "execution_count": null,
   "metadata": {},
   "outputs": [],
   "source": [
    "df_final"
   ]
  },
  {
   "cell_type": "code",
   "execution_count": null,
   "metadata": {},
   "outputs": [],
   "source": [
    "df_final = df_final.merge(df_diag_sepse[['subject_id','hadm_id']], on= ['subject_id','hadm_id'])"
   ]
  },
  {
   "cell_type": "code",
   "execution_count": null,
   "metadata": {},
   "outputs": [],
   "source": [
    "df_final"
   ]
  },
  {
   "cell_type": "code",
   "execution_count": null,
   "metadata": {},
   "outputs": [],
   "source": [
    "#df_final = df_final[['subject_id', 'hadm_id','gender', 'anchor_age', 'dod', 'admittime', 'dischtime', 'deathtime', 'edregtime', 'edouttime', 'icd_code', 'icd_version_x', 'long_title']]\n",
    "df_final = df_final[['subject_id', 'hadm_id', 'gender', 'anchor_age', 'dod', 'admittime', 'dischtime', 'deathtime', 'edregtime', 'edouttime']]"
   ]
  },
  {
   "cell_type": "code",
   "execution_count": null,
   "metadata": {},
   "outputs": [],
   "source": [
    "df_estadia_ed"
   ]
  },
  {
   "cell_type": "code",
   "execution_count": null,
   "metadata": {},
   "outputs": [],
   "source": [
    "df_final =  df_final.merge(df_estadia_ed, how='left', on=['subject_id', 'hadm_id'])"
   ]
  },
  {
   "cell_type": "code",
   "execution_count": null,
   "metadata": {},
   "outputs": [],
   "source": [
    "df_final = df_final.merge(df_sinais_vitais_ed, how='left', on=['subject_id', 'stay_id'])"
   ]
  },
  {
   "cell_type": "code",
   "execution_count": null,
   "metadata": {},
   "outputs": [],
   "source": [
    "columns_transformed = ['subject_id', 'hadm_id', 'Tipo', 'Coluna', 'Timestamp']\n",
    "df_transformed = pd.DataFrame(columns=columns_transformed)\n",
    "\n",
    "for _, row in df_final[(df_final['subject_id']==10000032)&(df_final['hadm_id']==29079034)][['subject_id','hadm_id','charttime','resprate','sbp']].iterrows():\n",
    "    resprate_row = {\n",
    "        'subject_id': row['subject_id'],\n",
    "        'hadm_id': row['hadm_id'],\n",
    "        'Tipo': 'A frequência respiratória do paciente em respirações por minuto.',\n",
    "        'Coluna': 'resprate',\n",
    "        'Timestamp': row['charttime']\n",
    "    }\n",
    "    sbp_row = {\n",
    "        'subject_id': row['subject_id'],\n",
    "        'hadm_id': row['hadm_id'],\n",
    "        'Tipo': 'A pressão arterial sistólica do paciente, medida em milímetros de mercúrio (mmHg).',\n",
    "        'Coluna': 'sbp',\n",
    "        'Timestamp': row['charttime']\n",
    "    }\n",
    "    df_transformed = df_transformed.append(resprate_row, ignore_index=True)\n",
    "    df_transformed = df_transformed.append(sbp_row, ignore_index=True)"
   ]
  },
  {
   "cell_type": "code",
   "execution_count": null,
   "metadata": {},
   "outputs": [],
   "source": [
    "# Calcular o a duração do paciente, em dias no hospital\n",
    "df_final['admittime'] = pd.to_datetime(df_final['admittime'])\n",
    "df_final['dischtime'] = pd.to_datetime(df_final['dischtime'])\n",
    "diferenca = df_final['dischtime'] - df_final['admittime']\n",
    "df_final['LOS hosp'] = diferenca / pd.Timedelta('1 day')"
   ]
  },
  {
   "cell_type": "code",
   "execution_count": null,
   "metadata": {},
   "outputs": [],
   "source": [
    "df_final"
   ]
  },
  {
   "cell_type": "code",
   "execution_count": null,
   "metadata": {},
   "outputs": [],
   "source": [
    "df_final = df_final[(df_final['resprate'].notna()) & (df_final['sbp'].notna())]"
   ]
  },
  {
   "cell_type": "code",
   "execution_count": null,
   "metadata": {},
   "outputs": [],
   "source": [
    "pd.options.mode.chained_assignment = None\n",
    "df_final['pont_resprate'] = df_final['resprate'].apply(lambda x: 1 if (x if (type(x) == float) else 0) >=22 else 0)\n",
    "df_final['pont_sbp'] = df_final['sbp'].apply(lambda x: 1 if (x if (type(x) == float) else 200) <=100 else 0)"
   ]
  },
  {
   "cell_type": "code",
   "execution_count": null,
   "metadata": {},
   "outputs": [],
   "source": [
    "df_final_group = df_final.groupby(['subject_id', 'hadm_id'])[['pont_resprate', 'pont_sbp']].max()\n",
    "df_final_group['pont_total'] = df_final_group['pont_resprate'] + df_final_group['pont_sbp']"
   ]
  },
  {
   "cell_type": "code",
   "execution_count": null,
   "metadata": {},
   "outputs": [],
   "source": [
    "df_final_group"
   ]
  },
  {
   "cell_type": "code",
   "execution_count": null,
   "metadata": {},
   "outputs": [],
   "source": [
    "# Pacientes com sepsis em internações específicas\n",
    "multi_indice = df_final_group[df_final_group['pont_total']==2].index"
   ]
  },
  {
   "cell_type": "code",
   "execution_count": null,
   "metadata": {},
   "outputs": [],
   "source": [
    "df_pacientes_qSOFA_2_sepse = pd.DataFrame.from_records(multi_indice, columns=['subject_id', 'hadm_id'])\n",
    "df_pacientes_qSOFA_2_sepse"
   ]
  },
  {
   "cell_type": "code",
   "execution_count": null,
   "metadata": {},
   "outputs": [],
   "source": [
    "len(df_pacientes_qSOFA_2_sepse['subject_id'].unique())"
   ]
  },
  {
   "cell_type": "code",
   "execution_count": null,
   "metadata": {},
   "outputs": [],
   "source": [
    "len(df_pacientes_qSOFA_2_sepse['hadm_id'].unique())"
   ]
  },
  {
   "cell_type": "code",
   "execution_count": null,
   "metadata": {},
   "outputs": [],
   "source": [
    "df_pacientes_qSOFA_2_sepse.to_excel('pacientes_sepse_qSOFA_2.xlsx')"
   ]
  },
  {
   "attachments": {},
   "cell_type": "markdown",
   "metadata": {},
   "source": [
    "## Pacientes qSOFA 2"
   ]
  },
  {
   "cell_type": "code",
   "execution_count": null,
   "metadata": {},
   "outputs": [],
   "source": [
    "import pandas as pd\n",
    "df_pacientes = pd.read_csv('hosp/patients.csv')\n",
    "df_admissoes = pd.read_csv('hosp/admissions.csv')\n",
    "df_diagnosticos = pd.read_csv('hosp/diagnoses_icd.csv')\n",
    "df_d_diagnosticos = pd.read_csv(\"hosp/d_icd_diagnoses.csv\")\n",
    "\n",
    "df_estadia_ed = pd.read_csv('D:\\MIMIC\\mimic-iv-ed-2.2\\ed\\edstays.csv')[['subject_id', 'hadm_id', 'stay_id', 'intime', 'outtime']]\n",
    "df_diagnosticos_ed = pd.read_csv('D:\\MIMIC\\mimic-iv-ed-2.2\\ed\\diagnosis.csv')[['subject_id', 'stay_id', 'icd_code', 'icd_title']]\n",
    "df_sinais_vitais_ed = pd.read_csv('D:/MIMIC/mimic-iv-ed-2.2/ed/vitalsign.csv')[['subject_id', 'stay_id', 'charttime','temperature', 'heartrate', 'resprate', 'o2sat', 'sbp', 'rhythm']]"
   ]
  },
  {
   "cell_type": "code",
   "execution_count": null,
   "metadata": {},
   "outputs": [],
   "source": [
    "df_final = df_admissoes.merge(df_pacientes, how='left', on='subject_id')\n",
    "\n",
    "df_final = df_final[['subject_id', 'hadm_id', 'gender', 'anchor_age', 'dod', 'admittime', 'dischtime', 'deathtime', 'edregtime', 'edouttime']]\n",
    "\n",
    "df_final =  df_final.merge(df_estadia_ed, how='left', on=['subject_id', 'hadm_id'])\n",
    "\n",
    "df_final = df_final.merge(df_sinais_vitais_ed, how='left', on=['subject_id', 'stay_id'])"
   ]
  },
  {
   "cell_type": "code",
   "execution_count": null,
   "metadata": {},
   "outputs": [],
   "source": [
    "df_final"
   ]
  },
  {
   "cell_type": "code",
   "execution_count": null,
   "metadata": {},
   "outputs": [],
   "source": [
    "columns_transformed = ['subject_id', 'hadm_id', 'Tipo', 'Coluna', 'Timestamp']\n",
    "df_transformed = pd.DataFrame(columns=columns_transformed)\n",
    "\n",
    "for _, row in df_final[(df_final['subject_id']==10000032)&(df_final['hadm_id']==29079034)][['subject_id','hadm_id','charttime','resprate','sbp']].iterrows():\n",
    "    resprate_row = {\n",
    "        'subject_id': row['subject_id'],\n",
    "        'hadm_id': row['hadm_id'],\n",
    "        'Tipo': 'A frequência respiratória do paciente em respirações por minuto.',\n",
    "        'Coluna': 'resprate',\n",
    "        'Timestamp': row['charttime']\n",
    "    }\n",
    "    sbp_row = {\n",
    "        'subject_id': row['subject_id'],\n",
    "        'hadm_id': row['hadm_id'],\n",
    "        'Tipo': 'A pressão arterial sistólica do paciente, medida em milímetros de mercúrio (mmHg).',\n",
    "        'Coluna': 'sbp',\n",
    "        'Timestamp': row['charttime']\n",
    "    }\n",
    "    df_transformed = df_transformed.append(resprate_row, ignore_index=True)\n",
    "    df_transformed = df_transformed.append(sbp_row, ignore_index=True)"
   ]
  },
  {
   "cell_type": "code",
   "execution_count": null,
   "metadata": {},
   "outputs": [],
   "source": [
    "# Calcular o a duração do paciente, em dias no hospital\n",
    "df_final['admittime'] = pd.to_datetime(df_final['admittime'])\n",
    "df_final['dischtime'] = pd.to_datetime(df_final['dischtime'])\n",
    "diferenca = df_final['dischtime'] - df_final['admittime']\n",
    "df_final['LOS hosp'] = diferenca / pd.Timedelta('1 day')"
   ]
  },
  {
   "cell_type": "code",
   "execution_count": null,
   "metadata": {},
   "outputs": [],
   "source": [
    "df_final = df_final[(df_final['resprate'].notna()) & (df_final['sbp'].notna())]"
   ]
  },
  {
   "cell_type": "code",
   "execution_count": null,
   "metadata": {},
   "outputs": [],
   "source": [
    "pd.options.mode.chained_assignment = None\n",
    "df_final['pont_resprate'] = df_final['resprate'].apply(lambda x: 1 if (x if (type(x) == float) else 0) >=22 else 0)\n",
    "df_final['pont_sbp'] = df_final['sbp'].apply(lambda x: 1 if (x if (type(x) == float) else 200) <=100 else 0)"
   ]
  },
  {
   "cell_type": "code",
   "execution_count": null,
   "metadata": {},
   "outputs": [],
   "source": [
    "df_final_group = df_final.groupby(['subject_id', 'hadm_id'])[['pont_resprate', 'pont_sbp']].max()\n",
    "df_final_group['pont_total'] = df_final_group['pont_resprate'] + df_final_group['pont_sbp']"
   ]
  },
  {
   "cell_type": "code",
   "execution_count": null,
   "metadata": {},
   "outputs": [],
   "source": [
    "# Pacientes com sepsis em internações específicas\n",
    "multi_indice = df_final_group[df_final_group['pont_total']==2].index\n",
    "\n",
    "df_pacientes_qSOFA_2 = pd.DataFrame.from_records(multi_indice, columns=['subject_id', 'hadm_id'])\n",
    "df_pacientes_qSOFA_2"
   ]
  },
  {
   "cell_type": "code",
   "execution_count": null,
   "metadata": {},
   "outputs": [],
   "source": [
    "df_pacientes_qSOFA_2.to_excel('pacientes_qSOFA_2.xlsx')"
   ]
  },
  {
   "attachments": {},
   "cell_type": "markdown",
   "metadata": {},
   "source": [
    "## Pacientes diagóstico sepse"
   ]
  },
  {
   "cell_type": "code",
   "execution_count": null,
   "metadata": {},
   "outputs": [],
   "source": [
    "import pandas as pd\n",
    "df_diagnosticos = pd.read_csv('hosp/diagnoses_icd.csv')\n",
    "df_d_diagnosticos = pd.read_csv(\"hosp/d_icd_diagnoses.csv\")\n",
    "df_diagnosticos =  df_diagnosticos.merge(df_d_diagnosticos, how='left', on = 'icd_code')"
   ]
  },
  {
   "cell_type": "code",
   "execution_count": null,
   "metadata": {},
   "outputs": [],
   "source": [
    "df_diagnosticos['long_title2'] = df_diagnosticos['long_title'].str.lower()"
   ]
  },
  {
   "cell_type": "code",
   "execution_count": null,
   "metadata": {},
   "outputs": [],
   "source": [
    "df_seps = df_diagnosticos[df_diagnosticos['long_title2'].str.contains('seps')]"
   ]
  },
  {
   "cell_type": "code",
   "execution_count": null,
   "metadata": {},
   "outputs": [],
   "source": [
    "df_seps.reset_index(drop=True, inplace=True)"
   ]
  },
  {
   "cell_type": "code",
   "execution_count": null,
   "metadata": {},
   "outputs": [],
   "source": [
    "print(f\"Número de pacientes: {len(df_seps['subject_id'].unique())}\")\n",
    "print(f\"Número de internações: {len(df_seps['hadm_id'].unique())}\")"
   ]
  },
  {
   "cell_type": "code",
   "execution_count": null,
   "metadata": {},
   "outputs": [],
   "source": [
    "# Pegar somente o último diagnóstico\n",
    "df_seps_final = df_seps.groupby(['subject_id', 'hadm_id']).tail(1)"
   ]
  },
  {
   "cell_type": "code",
   "execution_count": null,
   "metadata": {},
   "outputs": [],
   "source": [
    "df_seps_final.reset_index(drop=True, inplace=True)"
   ]
  },
  {
   "cell_type": "code",
   "execution_count": null,
   "metadata": {},
   "outputs": [],
   "source": [
    "df_seps_final.to_excel('pacientes_diag_sepse.xlsx')"
   ]
  },
  {
   "attachments": {},
   "cell_type": "markdown",
   "metadata": {},
   "source": [
    "## Filtrar pacientes"
   ]
  },
  {
   "cell_type": "code",
   "execution_count": null,
   "metadata": {},
   "outputs": [],
   "source": [
    "import pandas as pd\n",
    "import os\n",
    "\n",
    "# pacientes = pd.read_excel('pacientes_qSOFA_2.xlsx', index_col=0)\n",
    "pacientes = pd.read_excel('pacientes_sepse_qSOFA_2.xlsx', index_col=0)\n",
    "def filtrar_pacientes():\n",
    "    _, _, files = next(os.walk(\"particoes\"))\n",
    "    file_count = len(files)\n",
    "\n",
    "    for i in range(1,file_count+1):\n",
    "        df = pd.read_csv(f'particoes\\particao_{str(i)}.csv')\n",
    "        df_resultante = df.merge(pacientes, on=['subject_id', 'hadm_id'])\n",
    "        df_resultante.to_csv(f'particoes_filtradas/particao_{str(i)}.csv',index=False)\n",
    "        print(str(i))\n"
   ]
  },
  {
   "cell_type": "code",
   "execution_count": null,
   "metadata": {},
   "outputs": [],
   "source": [
    "filtrar_pacientes()"
   ]
  }
 ],
 "metadata": {
  "kernelspec": {
   "display_name": "base",
   "language": "python",
   "name": "python3"
  },
  "language_info": {
   "codemirror_mode": {
    "name": "ipython",
    "version": 3
   },
   "file_extension": ".py",
   "mimetype": "text/x-python",
   "name": "python",
   "nbconvert_exporter": "python",
   "pygments_lexer": "ipython3",
   "version": "3.9.13"
  },
  "orig_nbformat": 4
 },
 "nbformat": 4,
 "nbformat_minor": 2
}
