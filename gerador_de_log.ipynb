{
 "cells": [
  {
   "cell_type": "code",
   "execution_count": null,
   "metadata": {},
   "outputs": [],
   "source": [
    "import pandas as pd\n",
    "import dask.dataframe as dd\n",
    "df_pacientes = pd.read_csv('hosp/patients.csv')\n",
    "df_admissoes = pd.read_csv('hosp/admissions.csv')\n",
    "df_diagnosticos = pd.read_csv('hosp/diagnoses_icd.csv')\n",
    "df_d_diagnosticos = pd.read_csv(\"hosp/d_icd_diagnoses.csv\")\n",
    "\n",
    "df_estadia_ed = pd.read_csv('D:\\MIMIC\\mimic-iv-ed-2.2\\ed\\edstays.csv')[['subject_id', 'hadm_id', 'stay_id', 'intime', 'outtime']]\n",
    "df_diagnosticos_ed = pd.read_csv('D:\\MIMIC\\mimic-iv-ed-2.2\\ed\\diagnosis.csv')[['subject_id', 'stay_id', 'icd_code', 'icd_title']]\n",
    "df_sinais_vitais_ed = pd.read_csv('D:/MIMIC/mimic-iv-ed-2.2/ed/vitalsign.csv')[['subject_id', 'stay_id', 'charttime','temperature', 'heartrate', 'resprate', 'o2sat', 'sbp', 'rhythm']]\n",
    "\n",
    "df_bio = pd.read_csv('hosp\\microbiologyevents.csv')\n",
    "\n",
    "# pacientes_qSOFA_2 = pd.read_excel('pacientes_qSOFA_2.xlsx', index_col=0)\n",
    "# pacientes_diag_seps = pd.read_excel('pacientes_diag_sepse.xlsx', index_col=0)\n",
    "# pacientes = pacientes_qSOFA_2.merge(pacientes_diag_seps, on=['subject_id', 'hadm_id'])\n",
    "pacientes = pd.read_excel('pacientes_sepse_qSOFA_2.xlsx', index_col=0)"
   ]
  },
  {
   "attachments": {},
   "cell_type": "markdown",
   "metadata": {},
   "source": [
    "## Função"
   ]
  },
  {
   "cell_type": "code",
   "execution_count": null,
   "metadata": {},
   "outputs": [],
   "source": [
    "df_final = df_admissoes.merge(df_pacientes, how='left', on='subject_id')\n",
    "df_final = df_final[['subject_id', 'hadm_id','gender', 'anchor_age', 'dod', 'admittime', 'dischtime', 'deathtime', 'edregtime', 'edouttime']]\n",
    "df_final =  df_final.merge(df_estadia_ed, how='left', on=['subject_id', 'hadm_id'])\n",
    "#df_final = df_final[(df_final['subject_id']==subject_id)&(df_final['hadm_id']==hadm_id)][['subject_id','hadm_id','stay_id','admittime','dischtime','deathtime','edregtime','edouttime','intime','outtime']]\n",
    "#df_final[(df_final['subject_id']==subject_id)][['subject_id','hadm_id','stay_id','admittime','dischtime','deathtime','edregtime','edouttime','intime','outtime']]\n",
    "df_final = df_final[['subject_id','hadm_id','stay_id','admittime','dischtime','deathtime','edregtime','edouttime','intime','outtime']]\n",
    "# Filtrar somente pacientes qSOFA>=2\n",
    "df_final = df_final.merge(pacientes[['subject_id', 'hadm_id']], on=['subject_id', 'hadm_id'])"
   ]
  },
  {
   "cell_type": "code",
   "execution_count": null,
   "metadata": {},
   "outputs": [],
   "source": [
    "def reformat_table(df):\n",
    "    log_data = []\n",
    "    for _, row in df.iterrows():\n",
    "        log_data.append([row[\"subject_id\"], row[\"hadm_id\"], row[\"stay_id\"], \"Register the time of in-hospital death for the patient\", \"deathtime\", \"admissions/hosp\", row[\"deathtime\"]])\n",
    "        log_data.append([row[\"subject_id\"], row[\"hadm_id\"], row[\"stay_id\"], \"Register the date and time the patient was admitted to the hospital\", \"admittime\", \"admissions/hosp\", row[\"admittime\"]])\n",
    "        log_data.append([row[\"subject_id\"], row[\"hadm_id\"], row[\"stay_id\"], \"Register the date and time the patient was discharged from the hospital\", \"dischtime\", \"admissions/hosp\", row[\"dischtime\"]])\n",
    "        log_data.append([row[\"subject_id\"], row[\"hadm_id\"], row[\"stay_id\"], \"Register the admission datetime of the given emergency department stay\", \"intime\", \"edstays/ed\", row[\"intime\"]])\n",
    "        log_data.append([row[\"subject_id\"], row[\"hadm_id\"], row[\"stay_id\"], \"Register the discharge datetime of the given emergency department stay\", \"outtime\", \"edstays/ed\", row[\"outtime\"]])\n",
    "        log_data.append([row[\"subject_id\"], row[\"hadm_id\"], row[\"stay_id\"], \"Register the date and time at which the patient was registered in the emergency department\", \"edregtime\", \"admissions/hosp\", row[\"edregtime\"]])\n",
    "        log_data.append([row[\"subject_id\"], row[\"hadm_id\"], row[\"stay_id\"], \"Register The date and time at which the patient was discharged from the emergency department\", \"edouttime\", \"admissions/hosp\", row[\"edouttime\"]])\n",
    "\n",
    "    new_df = pd.DataFrame(log_data, columns=[\"subject_id\", \"hadm_id\", \"stay_id\", \"Activity\", \"Coluna\", \"Resource\", \"Timestamp\"])\n",
    "    \n",
    "    return new_df"
   ]
  },
  {
   "cell_type": "code",
   "execution_count": null,
   "metadata": {},
   "outputs": [],
   "source": [
    "df_transformed = reformat_table(df_final)\n",
    "df_transformed"
   ]
  },
  {
   "cell_type": "code",
   "execution_count": null,
   "metadata": {},
   "outputs": [],
   "source": [
    "df_final = df_final.merge(df_sinais_vitais_ed, how='left', on=['subject_id', 'stay_id'])\n",
    "df = df_final[['subject_id','hadm_id','stay_id','charttime','resprate','sbp']]"
   ]
  },
  {
   "cell_type": "code",
   "execution_count": null,
   "metadata": {},
   "outputs": [],
   "source": [
    "def transform_row(row):\n",
    "    return {\n",
    "        'subject_id': row['subject_id'],\n",
    "        'hadm_id': row['hadm_id'],\n",
    "        'stay_id': row['stay_id'],\n",
    "        'Activity': \"Measure the patient's vital signs.\",\n",
    "        'Coluna': 'charttime',\n",
    "        'Resource': 'vitalsign/ed',\n",
    "        'Timestamp': row['charttime'],\n",
    "        'Info adc': f\" Resprate {row['resprate']} - SBP {row['sbp']}\"\n",
    "    }\n",
    "\n",
    "df_transformed2 = df_final.apply(transform_row, axis=1)\n",
    "df_transformed2 = pd.DataFrame(df_transformed2.tolist())\n",
    "df_transformed2"
   ]
  },
  {
   "cell_type": "code",
   "execution_count": null,
   "metadata": {},
   "outputs": [],
   "source": [
    "df_remedios_pyxis = pd.read_csv('ed\\pyxis.csv')\n",
    "#df_remedios_ed = df_remedios_pyxis\n",
    "df_remedios_pyxis = df_remedios_pyxis.merge((pd.DataFrame((pacientes['subject_id'].unique()),columns=['subject_id'])), on=['subject_id'])"
   ]
  },
  {
   "cell_type": "code",
   "execution_count": null,
   "metadata": {},
   "outputs": [],
   "source": [
    "df_remedios_de_para_pyxis = pd.read_excel('remedios_de_para_pyxis.xlsx', index_col=0)\n",
    "df_remedios_de_para_pyxis['Tipo'] = df_remedios_de_para_pyxis.apply(lambda row: 'Antibiotic' if row['Tipo'] == 'Antibiótico' else row['Tipo'], axis = 1)\n",
    "df_remedios_pyxis = df_remedios_pyxis.merge(df_remedios_de_para_pyxis, on=['name'])"
   ]
  },
  {
   "cell_type": "code",
   "execution_count": null,
   "metadata": {},
   "outputs": [],
   "source": [
    "columns_transformed = ['subject_id', 'stay_id', 'Activity', 'Coluna', 'Timestamp','Info adc']\n",
    "df_transformed3 = pd.DataFrame(columns=columns_transformed)\n",
    "\n",
    "def transform_row(row):\n",
    "    return {\n",
    "        'subject_id': row['subject_id'],\n",
    "        'stay_id': row['stay_id'],\n",
    "        'Activity': f'Administer medication {row[\"Tipo\"]} via Pyxis in the emergency',\n",
    "        'Coluna': 'charttime',\n",
    "        'Resource': 'pyxis/ed',\n",
    "        'Timestamp': row['charttime'],\n",
    "        'Info adc': row['name']\n",
    "    }\n",
    "\n",
    "df_transformed3 = df_remedios_pyxis[['subject_id','stay_id','charttime','name','Tipo']].apply(transform_row, axis=1)\n",
    "df_transformed3 = pd.DataFrame(df_transformed3.tolist())"
   ]
  },
  {
   "cell_type": "code",
   "execution_count": null,
   "metadata": {},
   "outputs": [],
   "source": [
    "df_transformed3 = df_transformed3[['subject_id','stay_id','Activity','Coluna','Resource','Timestamp','Info adc']]\n",
    "df_transformed3"
   ]
  },
  {
   "cell_type": "code",
   "execution_count": null,
   "metadata": {},
   "outputs": [],
   "source": [
    "df_transformed_join = df_transformed[['subject_id','hadm_id','stay_id']].astype({'stay_id': 'int32'}).astype({'stay_id': 'object'})\n",
    "df_transformed_join = df_transformed_join[['subject_id','hadm_id','stay_id']].drop_duplicates()\n",
    "df_transformed3 = df_transformed3.merge(df_transformed_join[['subject_id','hadm_id','stay_id']], on=['subject_id','stay_id'], how='inner')[['subject_id','hadm_id', 'stay_id','Activity','Coluna','Resource','Timestamp','Info adc']]"
   ]
  },
  {
   "cell_type": "code",
   "execution_count": null,
   "metadata": {},
   "outputs": [],
   "source": [
    "df_d_items = pd.read_csv('icu\\d_items.csv')"
   ]
  },
  {
   "cell_type": "code",
   "execution_count": null,
   "metadata": {},
   "outputs": [],
   "source": [
    "# TABELA LABEVENTS\n",
    "ddf = dd.read_csv('particoes_labevents_filtradas_sep_qSOFA2\\particao_*.csv', dtype='object')\n",
    "pandas_labeventos = ddf.compute()\n",
    "pandas_labeventos = pandas_labeventos.astype({'itemid': 'int64'})"
   ]
  },
  {
   "cell_type": "code",
   "execution_count": null,
   "metadata": {},
   "outputs": [],
   "source": [
    "df_dm_labevents = pd.read_csv('hosp/d_labitems.csv')\n",
    "pandas_labeventos = pandas_labeventos.merge(df_dm_labevents, on=['itemid'])"
   ]
  },
  {
   "cell_type": "code",
   "execution_count": null,
   "metadata": {},
   "outputs": [],
   "source": [
    "pandas_labeventos = pandas_labeventos[pandas_labeventos['label']=='Lactate']"
   ]
  },
  {
   "cell_type": "code",
   "execution_count": null,
   "metadata": {},
   "outputs": [],
   "source": [
    "pandas_labeventos"
   ]
  },
  {
   "cell_type": "code",
   "execution_count": null,
   "metadata": {},
   "outputs": [],
   "source": [
    "def transform_row(row):\n",
    "    return {\n",
    "        'subject_id': row['subject_id'],\n",
    "        'hadm_id': row['hadm_id'],\n",
    "        'stay_id': '',\n",
    "        'Activity': f\"Record laboratory measurement/observation {row['label']}\",\n",
    "        'Coluna': 'charttime',\n",
    "        'Resource': 'labevents/hosp',\n",
    "        'Timestamp': row['charttime'],\n",
    "        'Info adc': f\"{row['label']} - {row['value']} {row['valueuom']}\"\n",
    "    }\n",
    "\n",
    "df_transformed4 = pandas_labeventos.apply(transform_row, axis=1)\n",
    "df_transformed4 = pd.DataFrame(df_transformed4.tolist())\n",
    "df_transformed4"
   ]
  },
  {
   "cell_type": "code",
   "execution_count": null,
   "metadata": {},
   "outputs": [],
   "source": [
    "df_uti = pd.read_csv('icu\\icustays.csv')\n",
    "df_uti = df_uti.merge(pacientes[['subject_id', 'hadm_id']], on=['subject_id', 'hadm_id'])\n",
    "df_uti = df_uti.rename(columns={'stay_id': \"stay_id_icu\"})\n",
    "df_uti"
   ]
  },
  {
   "cell_type": "code",
   "execution_count": null,
   "metadata": {},
   "outputs": [],
   "source": [
    "columns_transformed = ['subject_id', 'hadm_id','stay_id_icu', 'Activity', 'Coluna','Resource', 'Timestamp']\n",
    "df_transformed5 = pd.DataFrame(columns=columns_transformed)\n",
    "\n",
    "def transform_row(row):\n",
    "    intime_row = {\n",
    "        'subject_id': row['subject_id'],\n",
    "        'hadm_id': row['hadm_id'],\n",
    "        'stay_id_icu': row['stay_id_icu'],\n",
    "        'Activity': 'Record the date and time the patient was transferred to the ICU.',\n",
    "        'Coluna': 'intime',\n",
    "        'Resource': 'icustays/icu',\n",
    "        'Timestamp': row['intime']\n",
    "    }\n",
    "    outtime_row = {\n",
    "        'subject_id': row['subject_id'],\n",
    "        'hadm_id': row['hadm_id'],\n",
    "        'stay_id_icu': row['stay_id_icu'],\n",
    "        'Activity': 'Record the date and time the patient was transferred from the ICU.',\n",
    "        'Coluna': 'outtime',\n",
    "        'Resource': 'icustays/icu',\n",
    "        'Timestamp': row['outtime']\n",
    "    }\n",
    "\n",
    "    return [intime_row, outtime_row]\n",
    "\n",
    "rows_transformed = df_uti.apply(transform_row, axis=1)\n",
    "df_transformed5 = pd.DataFrame([row for row_pair in rows_transformed for row in row_pair])"
   ]
  },
  {
   "cell_type": "code",
   "execution_count": null,
   "metadata": {},
   "outputs": [],
   "source": [
    "df_transformed5"
   ]
  },
  {
   "cell_type": "code",
   "execution_count": null,
   "metadata": {},
   "outputs": [],
   "source": [
    "df_presc = pd.read_csv(\"hosp\\prescriptions.csv\")\n",
    "df_presc = df_presc.merge(pacientes[['subject_id', 'hadm_id']], on=['subject_id', 'hadm_id'])\n",
    "df_presc = df_presc[['subject_id','hadm_id','starttime','stoptime','drug','dose_val_rx','dose_unit_rx']]"
   ]
  },
  {
   "cell_type": "code",
   "execution_count": null,
   "metadata": {},
   "outputs": [],
   "source": [
    "df_remedios_de_para = pd.read_excel('remedios_de_para.xlsx', index_col=0)\n",
    "df_remedios_de_para['Tipo'] = df_remedios_de_para.apply(lambda row: 'Antibiotic' if row['Tipo'] == 'Antibiótico' else row['Tipo'], axis = 1)"
   ]
  },
  {
   "cell_type": "code",
   "execution_count": null,
   "metadata": {},
   "outputs": [],
   "source": [
    "df_presc = df_presc.merge(df_remedios_de_para, on=['drug'])\n",
    "df_presc['Tipo'] = df_presc.apply(lambda row: 'Albumin' if row['Albumina'] == 'Sim' else row['Tipo'], axis = 1)"
   ]
  },
  {
   "cell_type": "code",
   "execution_count": null,
   "metadata": {},
   "outputs": [],
   "source": [
    "def transform_row(row):\n",
    "    starttime_row = {\n",
    "        'subject_id': row['subject_id'],\n",
    "        'hadm_id': row['hadm_id'],\n",
    "        'stay_id': '',\n",
    "        'Activity': f\"Record the prescribed time for the medication {row['Tipo']}\",\n",
    "        'Coluna': 'starttime/stoptime',\n",
    "        'Resource': 'prescriptions/hosp',\n",
    "        'Init Timestamp': row['starttime'],\n",
    "        'End Timestamp': row['stoptime'],\n",
    "        'Info adc': f\"{row['drug']} - {row['dose_val_rx']} {row['dose_unit_rx']}\"\n",
    "    }\n",
    "    return [starttime_row]\n",
    "\n",
    "rows_transformed = df_presc.apply(transform_row, axis=1)\n",
    "df_transformed6 = pd.DataFrame([row for row_pair in rows_transformed for row in row_pair])"
   ]
  },
  {
   "cell_type": "code",
   "execution_count": null,
   "metadata": {},
   "outputs": [],
   "source": [
    "df_transformed6"
   ]
  },
  {
   "cell_type": "code",
   "execution_count": null,
   "metadata": {},
   "outputs": [],
   "source": [
    "procedimentos_imp = [\n",
    "    'Invasive Ventilation',\n",
    "    'Blood Cultured',\n",
    "    'Urine Culture',\n",
    "    'Sputum Culture',\n",
    "    'Dialysis Catheter',\n",
    "    'Stool Culture',\n",
    "    'Pan Culture',\n",
    "    'BAL Fluid Culture',\n",
    "    'Peritoneal Dialysis',\n",
    "    'Wound Culture',\n",
    "    'CSF Culture'\n",
    "]\n",
    "df_proced_imp = pd.DataFrame(procedimentos_imp, columns=['label'])"
   ]
  },
  {
   "cell_type": "code",
   "execution_count": null,
   "metadata": {},
   "outputs": [],
   "source": [
    "df_procedimentos = pd.read_csv('icu\\procedureevents.csv')\n",
    "df_procedimentos = df_procedimentos.merge(df_d_items, how = 'left', on='itemid')\n",
    "df_procedimentos = df_procedimentos.merge(pacientes[['subject_id', 'hadm_id']], on=['subject_id', 'hadm_id'])\n",
    "df_procedimentos = df_procedimentos[['subject_id','hadm_id','stay_id','starttime','endtime', 'value', 'valueuom', 'label', 'abbreviation', 'category']].rename(columns={'stay_id': 'stay_id_icu'})\n",
    "df_procedimentos = df_procedimentos.merge(df_proced_imp, on='label')"
   ]
  },
  {
   "cell_type": "code",
   "execution_count": null,
   "metadata": {},
   "outputs": [],
   "source": [
    "def transform_row(row):\n",
    "    starttime_row = {\n",
    "        'subject_id': row['subject_id'],\n",
    "        'hadm_id': row['hadm_id'],\n",
    "        'stay_id_icu': row['stay_id_icu'],\n",
    "        'Activity': f\"Record the procedure {row['label']}.\",\n",
    "        'Coluna': 'starttime/endtime',\n",
    "        'Resource': 'procedureevents/icu',\n",
    "        'Init Timestamp': row['starttime'],\n",
    "        'End Timestamp': row['endtime'],\n",
    "        'Info adc': f\"{row['category']} - {row['value']} {row['valueuom']}\"\n",
    "    }\n",
    "    return [starttime_row]\n",
    "\n",
    "rows_transformed = df_procedimentos.apply(transform_row, axis=1)\n",
    "df_transformed7 = pd.DataFrame([row for row_pair in rows_transformed for row in row_pair])"
   ]
  },
  {
   "cell_type": "code",
   "execution_count": null,
   "metadata": {},
   "outputs": [],
   "source": [
    "df_transformed7"
   ]
  },
  {
   "cell_type": "code",
   "execution_count": null,
   "metadata": {},
   "outputs": [],
   "source": [
    "# MICROBIOLOGIA, HEMOCULTURA\n",
    "df_bio = df_bio[df_bio['spec_type_desc']=='BLOOD CULTURE']\n",
    "df_bio = df_bio.merge(pacientes, on=['subject_id', 'hadm_id'])"
   ]
  },
  {
   "cell_type": "code",
   "execution_count": null,
   "metadata": {},
   "outputs": [],
   "source": [
    "df_bio"
   ]
  },
  {
   "cell_type": "code",
   "execution_count": null,
   "metadata": {},
   "outputs": [],
   "source": [
    "def transform_row(row):\n",
    "    starttime_row = {\n",
    "        'subject_id': row['subject_id'],\n",
    "        'hadm_id': row['hadm_id'],\n",
    "        'Activity': f\"Record the date and time of the routine Blood Culture\",\n",
    "        'Coluna': 'charttime',\n",
    "        'Resource': 'microbiologyevents/hosp',\n",
    "        'Init Timestamp': row['charttime'],\n",
    "        'End Timestamp': row['charttime'],\n",
    "        'Info adc': ''\n",
    "    }\n",
    "    return [starttime_row]\n",
    "\n",
    "rows_transformed = df_bio.apply(transform_row, axis=1)\n",
    "df_transformed8 = pd.DataFrame([row for row_pair in rows_transformed for row in row_pair])"
   ]
  },
  {
   "cell_type": "code",
   "execution_count": null,
   "metadata": {},
   "outputs": [],
   "source": [
    "df_transformed8"
   ]
  },
  {
   "cell_type": "code",
   "execution_count": null,
   "metadata": {},
   "outputs": [],
   "source": [
    "#df_paciente = pd.concat([df_transformed, df_transformed2, df_transformed3, df_transformed4, df_transformed5, df_transformed6, df_transformed7],ignore_index=True)\n",
    "df_paciente = pd.concat([df_transformed, df_transformed2, df_transformed3, df_transformed4, df_transformed5, df_transformed6, df_transformed7, df_transformed8],ignore_index=True)\n",
    "df_paciente"
   ]
  },
  {
   "cell_type": "code",
   "execution_count": null,
   "metadata": {},
   "outputs": [],
   "source": [
    "df_paciente['subject_id'] = df_paciente['subject_id'].apply(lambda x: int(x))\n",
    "df_paciente['hadm_id'] = df_paciente['hadm_id'].apply(lambda x: int(float(x)))"
   ]
  },
  {
   "cell_type": "code",
   "execution_count": null,
   "metadata": {},
   "outputs": [],
   "source": [
    "# df_paciente = df_paciente.rename(columns={\"Tipo\":\"Activity\",\"Info adc\":\"Add. Info\",\"Coluna\":\"Column\"})\n",
    "df_paciente = df_paciente.rename(columns={\"Info adc\":\"Add. Info\",\"Coluna\":\"Column\"})\n",
    "df_paciente = df_paciente[['subject_id','hadm_id','stay_id','stay_id_icu','Activity','Column','Resource','Timestamp','Init Timestamp','End Timestamp','Add. Info']]"
   ]
  },
  {
   "cell_type": "code",
   "execution_count": null,
   "metadata": {},
   "outputs": [],
   "source": [
    "#df_paciente = df_paciente[df_paciente['Timestamp'].notna()]\n",
    "df_paciente['Init Timestamp'] = df_paciente.apply(lambda row: row['Init Timestamp'] if type(row['Timestamp'])==float else row['Timestamp'], axis=1)\n",
    "df_paciente['End Timestamp'] = df_paciente.apply(lambda row: row['End Timestamp'] if type(row['Timestamp'])==float else row['Timestamp'], axis=1)\n",
    "df_paciente = df_paciente[df_paciente['Init Timestamp'].notna()]"
   ]
  },
  {
   "cell_type": "code",
   "execution_count": null,
   "metadata": {},
   "outputs": [],
   "source": [
    "df_paciente"
   ]
  },
  {
   "cell_type": "code",
   "execution_count": null,
   "metadata": {},
   "outputs": [],
   "source": [
    "# Adicionar diagnóstico\n",
    "df_pacientes_sepse = pd.read_excel('pacientes_diag_sepse.xlsx', index_col=0)\n",
    "df_B_filtered = df_paciente[df_paciente['Activity'] == 'Register the admission datetime of the given emergency department stay']\n",
    "df_merged = pd.merge(df_pacientes_sepse, df_B_filtered, how='inner', on=['subject_id', 'hadm_id'])\n",
    "df_merged = df_merged[['subject_id','hadm_id','Activity','Column','Resource','Init Timestamp','End Timestamp','long_title']]\n",
    "df_merged.rename(columns={'long_title':\"Add. Info\"}, inplace=True)\n",
    "\n",
    "df_merged['Activity'] = 'Register the datetime of the Sepsis diagnosis'\n",
    "df_merged['Column'] = 'long_title'\n",
    "df_merged['Resource'] = 'hosp/d_icd_diagnoses'\n",
    "\n",
    "df_merged2 = pd.merge(df_paciente, df_merged, how='left', on=['subject_id', 'hadm_id'])\n",
    "\n",
    "df_paciente = pd.concat([df_paciente, df_merged],ignore_index=True)"
   ]
  },
  {
   "cell_type": "code",
   "execution_count": null,
   "metadata": {},
   "outputs": [],
   "source": [
    "df_paciente"
   ]
  },
  {
   "cell_type": "code",
   "execution_count": null,
   "metadata": {},
   "outputs": [],
   "source": [
    "len(df_paciente['subject_id'].unique())"
   ]
  },
  {
   "cell_type": "code",
   "execution_count": null,
   "metadata": {},
   "outputs": [],
   "source": [
    "# Excluir a atividade de alta se o paciente morreu\n",
    "\n",
    "# Encontre os registros com deathtime\n",
    "deathtime_rows = df_paciente[df_paciente['Column'] == 'deathtime']\n",
    "\n",
    "# Crie um conjunto de tuplas (subject_id, hadm_id) para pacientes que morreram\n",
    "deceased_patients = set(zip(deathtime_rows['subject_id'], deathtime_rows['hadm_id']))\n",
    "\n",
    "# Função para verificar se uma linha deve ser mantida\n",
    "def keep_row(row):\n",
    "    patient_info = (row['subject_id'], row['hadm_id'])\n",
    "    return not (patient_info in deceased_patients and row['Column'] == 'dischtime')\n",
    "\n",
    "# Filtra as linhas usando a função keep_row\n",
    "filtered_df = df_paciente[df_paciente.apply(keep_row, axis=1)]"
   ]
  },
  {
   "cell_type": "code",
   "execution_count": null,
   "metadata": {},
   "outputs": [],
   "source": [
    "filtered_df"
   ]
  },
  {
   "cell_type": "code",
   "execution_count": null,
   "metadata": {},
   "outputs": [],
   "source": [
    "filtered_df.drop(columns=['Timestamp'],inplace=True)"
   ]
  },
  {
   "cell_type": "code",
   "execution_count": null,
   "metadata": {},
   "outputs": [],
   "source": [
    "filtered_df"
   ]
  },
  {
   "cell_type": "code",
   "execution_count": null,
   "metadata": {},
   "outputs": [],
   "source": [
    "filtered_df['Init Timestamp'] = pd.to_datetime(filtered_df['Init Timestamp'])\n",
    "filtered_df['End Timestamp'] = pd.to_datetime(filtered_df['End Timestamp'])"
   ]
  },
  {
   "cell_type": "code",
   "execution_count": null,
   "metadata": {},
   "outputs": [],
   "source": [
    "# Identificar as atividades de alta ou morte\n",
    "important_activities = [\"Register the date and time the patient was discharged from the hospital\",\n",
    "                        \"Register the time of in-hospital death for the patient\"]\n",
    "\n",
    "# Criar um dataframe apenas com as atividades de alta ou morte\n",
    "df_important = filtered_df[filtered_df['Activity'].isin(important_activities)]\n",
    "\n",
    "# Encontrar o momento da primeira atividade de alta ou morte para cada paciente e internação\n",
    "important_times = df_important.groupby(['subject_id', 'hadm_id'])['Init Timestamp'].min()\n",
    "\n",
    "# Converter a Series em um DataFrame para facilitar o merge\n",
    "important_times = important_times.reset_index()\n",
    "\n",
    "# Mudar o nome da coluna para evitar conflito no merge\n",
    "important_times.rename(columns={'Init Timestamp': 'Important Time'}, inplace=True)\n",
    "\n",
    "# Fazer o merge do df original com os tempos importantes\n",
    "df = pd.merge(filtered_df, important_times, on=['subject_id', 'hadm_id'], how='left')\n",
    "\n",
    "# Remover as linhas onde o tempo inicial do evento é depois do tempo importante\n",
    "df = df[df['Init Timestamp'] <= df['Important Time']]\n",
    "\n",
    "# Remover a coluna auxiliar\n",
    "df.drop(columns='Important Time', inplace=True)"
   ]
  },
  {
   "cell_type": "code",
   "execution_count": null,
   "metadata": {},
   "outputs": [],
   "source": [
    "df"
   ]
  },
  {
   "cell_type": "code",
   "execution_count": null,
   "metadata": {},
   "outputs": [],
   "source": [
    "# Retirar a atividade 'Register the date and time the patient was admitted to the hospital'\n",
    "df = df[df['Activity']!='Register the date and time the patient was admitted to the hospital']"
   ]
  },
  {
   "cell_type": "code",
   "execution_count": null,
   "metadata": {},
   "outputs": [],
   "source": [
    "# Mudar nome do arquivo\n",
    "# df_paciente.sort_values(by='Timestamp').to_excel('pacientes_finais_200.xlsx')\n",
    "# filtered_df.sort_values(by=['subject_id','hadm_id','Timestamp']).reset_index(drop=True).to_excel('pacientes_finais_17-05.xlsx')\n",
    "df.sort_values(by=['subject_id','hadm_id','Init Timestamp']).reset_index(drop=True).to_csv('pacientes_finais_DATA.csv', sep=';')"
   ]
  }
 ],
 "metadata": {
  "kernelspec": {
   "display_name": "base",
   "language": "python",
   "name": "python3"
  },
  "language_info": {
   "codemirror_mode": {
    "name": "ipython",
    "version": 3
   },
   "file_extension": ".py",
   "mimetype": "text/x-python",
   "name": "python",
   "nbconvert_exporter": "python",
   "pygments_lexer": "ipython3",
   "version": "3.9.13"
  },
  "orig_nbformat": 4
 },
 "nbformat": 4,
 "nbformat_minor": 2
}
